{
 "cells": [
  {
   "cell_type": "code",
   "execution_count": 4,
   "id": "8d4efd3a",
   "metadata": {},
   "outputs": [
    {
     "name": "stdout",
     "output_type": "stream",
     "text": [
      "This is the if body\n",
      "If not\n"
     ]
    }
   ],
   "source": [
    "a=60\n",
    "if a>50 :\n",
    "    print(\"This is the if body\")\n",
    "print(\"If not\")"
   ]
  },
  {
   "cell_type": "code",
   "execution_count": 5,
   "id": "c0589830",
   "metadata": {},
   "outputs": [
    {
     "name": "stdout",
     "output_type": "stream",
     "text": [
      "If not\n"
     ]
    }
   ],
   "source": [
    "a=20\n",
    "if a>50 :\n",
    "    print(\"This is the if body\")\n",
    "print(\"If not\")"
   ]
  },
  {
   "cell_type": "code",
   "execution_count": 9,
   "id": "04356d9e",
   "metadata": {},
   "outputs": [
    {
     "name": "stdout",
     "output_type": "stream",
     "text": [
      "odd\n"
     ]
    }
   ],
   "source": [
    "i=33\n",
    "if i%2==0:\n",
    "    print(\"even\")\n",
    "else:\n",
    "    print(\"odd\")"
   ]
  },
  {
   "cell_type": "markdown",
   "id": "e95a5df7",
   "metadata": {},
   "source": [
    "NESTED IF STATEMENT\n"
   ]
  },
  {
   "cell_type": "code",
   "execution_count": 10,
   "id": "a43138cc",
   "metadata": {},
   "outputs": [
    {
     "name": "stdout",
     "output_type": "stream",
     "text": [
      "a is odd number<25\n"
     ]
    }
   ],
   "source": [
    "a=21\n",
    "if a<25:\n",
    "    if a%2==0:\n",
    "        print(\"a is even number<25\")\n",
    "    else:\n",
    "        print(\"a is odd number<25\")\n",
    "else:\n",
    "    print(\"c is greater han 25\")"
   ]
  },
  {
   "cell_type": "markdown",
   "id": "ebe4f856",
   "metadata": {},
   "source": [
    "IF ELIF ELSE STATEMENT"
   ]
  },
  {
   "cell_type": "code",
   "execution_count": 12,
   "id": "9af5ceda",
   "metadata": {},
   "outputs": [
    {
     "name": "stdout",
     "output_type": "stream",
     "text": [
      "o is the vowel\n"
     ]
    }
   ],
   "source": [
    "var=\"o\"\n",
    "if var=='a':\n",
    "    print(\"a is the vowel\")\n",
    "elif var=='e':\n",
    "    print(\"e is the vowel\")\n",
    "elif var=='i':\n",
    "    print(\"i is the vowel\")\n",
    "elif var=='o':\n",
    "    print(\"o is the vowel\")\n",
    "elif var=='u':\n",
    "    print(\"u is the vowel\")\n",
    "else:\n",
    "    print(\"Consonant\")"
   ]
  },
  {
   "cell_type": "code",
   "execution_count": null,
   "id": "17ff91ca",
   "metadata": {},
   "outputs": [],
   "source": []
  }
 ],
 "metadata": {
  "kernelspec": {
   "display_name": "Python 3 (ipykernel)",
   "language": "python",
   "name": "python3"
  },
  "language_info": {
   "codemirror_mode": {
    "name": "ipython",
    "version": 3
   },
   "file_extension": ".py",
   "mimetype": "text/x-python",
   "name": "python",
   "nbconvert_exporter": "python",
   "pygments_lexer": "ipython3",
   "version": "3.9.13"
  }
 },
 "nbformat": 4,
 "nbformat_minor": 5
}
