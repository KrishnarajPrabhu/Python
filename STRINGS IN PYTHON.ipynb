{
 "cells": [
  {
   "cell_type": "code",
   "execution_count": 2,
   "id": "7c803c63",
   "metadata": {},
   "outputs": [
    {
     "ename": "SyntaxError",
     "evalue": "invalid syntax (1554551510.py, line 1)",
     "output_type": "error",
     "traceback": [
      "\u001b[1;36m  File \u001b[1;32m\"C:\\Users\\Krishnaraj\\AppData\\Local\\Temp\\ipykernel_15796\\1554551510.py\"\u001b[1;36m, line \u001b[1;32m1\u001b[0m\n\u001b[1;33m    stg='Tim's birthday'\u001b[0m\n\u001b[1;37m             ^\u001b[0m\n\u001b[1;31mSyntaxError\u001b[0m\u001b[1;31m:\u001b[0m invalid syntax\n"
     ]
    }
   ],
   "source": [
    "stg='Tim's birthday'\n",
    "print(stg)"
   ]
  },
  {
   "cell_type": "code",
   "execution_count": 3,
   "id": "4c0ce68b",
   "metadata": {},
   "outputs": [
    {
     "name": "stdout",
     "output_type": "stream",
     "text": [
      "Tim's birthday\n"
     ]
    }
   ],
   "source": [
    "stg=\"Tim's birthday\"\n",
    "print(stg)"
   ]
  },
  {
   "cell_type": "code",
   "execution_count": 4,
   "id": "36557f41",
   "metadata": {},
   "outputs": [
    {
     "name": "stdout",
     "output_type": "stream",
     "text": [
      "Tim said \"He is busy\"\n"
     ]
    }
   ],
   "source": [
    "stg='Tim said \"He is busy\"'\n",
    "print(stg)"
   ]
  },
  {
   "cell_type": "code",
   "execution_count": 6,
   "id": "76a6c7d5",
   "metadata": {},
   "outputs": [
    {
     "name": "stdout",
     "output_type": "stream",
     "text": [
      "Hey there!\n",
      "Welcome\n"
     ]
    }
   ],
   "source": [
    "stg='''Hey there!\n",
    "Welcome'''\n",
    "print(stg)"
   ]
  },
  {
   "cell_type": "code",
   "execution_count": 8,
   "id": "bd2aeb40",
   "metadata": {},
   "outputs": [
    {
     "name": "stdout",
     "output_type": "stream",
     "text": [
      "11\n",
      "i\n"
     ]
    }
   ],
   "source": [
    "stg='Simplilearn'\n",
    "print(len(stg))\n",
    "print(stg[5])"
   ]
  },
  {
   "cell_type": "code",
   "execution_count": 9,
   "id": "eb080d5e",
   "metadata": {},
   "outputs": [
    {
     "name": "stdout",
     "output_type": "stream",
     "text": [
      "S\n",
      "i\n",
      "m\n",
      "p\n",
      "l\n",
      "i\n",
      "l\n",
      "e\n",
      "a\n",
      "r\n",
      "n\n"
     ]
    }
   ],
   "source": [
    "stg=\"Simplilearn\"\n",
    "for i in stg:\n",
    "    print(i)"
   ]
  },
  {
   "cell_type": "code",
   "execution_count": 10,
   "id": "c9ee61c6",
   "metadata": {},
   "outputs": [
    {
     "name": "stdout",
     "output_type": "stream",
     "text": [
      "S i m p l i l e a r n "
     ]
    }
   ],
   "source": [
    "stg=\"Simplilearn\"\n",
    "for i in stg:\n",
    "    print(i,end=\" \")"
   ]
  },
  {
   "cell_type": "code",
   "execution_count": 13,
   "id": "69039e88",
   "metadata": {},
   "outputs": [
    {
     "name": "stdout",
     "output_type": "stream",
     "text": [
      "Simpl\n",
      "Simpl\n",
      "ilearn\n",
      "mpl\n"
     ]
    }
   ],
   "source": [
    "stg=\"Simplilearn\"\n",
    "print(stg[0:5])\n",
    "print(stg[:5])\n",
    "print(stg[5:])\n",
    "print(stg[2:5])"
   ]
  },
  {
   "cell_type": "code",
   "execution_count": 26,
   "id": "c4b275a3",
   "metadata": {},
   "outputs": [
    {
     "name": "stdout",
     "output_type": "stream",
     "text": [
      "WELCOME TO SIMPLILEARN\n",
      "welcome to simplilearn\n",
      "11\n",
      "2\n",
      "['Welcome to Simplilearn']\n",
      "Welcome to PythonT\n",
      "('Welcome', ' to ', 'Simplilearn')\n"
     ]
    }
   ],
   "source": [
    "stg=\"Welcome to Simplilearn\"\n",
    "print(stg.upper())\n",
    "print(stg.lower())\n",
    "\n",
    "print(stg.find(\"S\"))\n",
    "print(stg.index(\"l\"))\n",
    "\n",
    "x=stg.split('  ')\n",
    "print(x)\n",
    "\n",
    "print(stg.replace(\"Simplilearn\",\"PythonT\"))\n",
    "\n",
    "print(stg.rpartition(\" to \"))"
   ]
  },
  {
   "cell_type": "code",
   "execution_count": 27,
   "id": "02b54520",
   "metadata": {},
   "outputs": [
    {
     "name": "stdout",
     "output_type": "stream",
     "text": [
      "Krishna Radha\n"
     ]
    }
   ],
   "source": [
    "stg1=\"Krishna\"\n",
    "stg2=\"Radha\"\n",
    "stg=stg1+\" \"+stg2\n",
    "print(stg)"
   ]
  },
  {
   "cell_type": "code",
   "execution_count": 30,
   "id": "556ff384",
   "metadata": {},
   "outputs": [
    {
     "name": "stdout",
     "output_type": "stream",
     "text": [
      "Hey there, all\n"
     ]
    }
   ],
   "source": [
    "stg1=\"Hey\"\n",
    "stg2=\"there\"\n",
    "stg3=\"all\"\n",
    "stg=\"{} {}, {}\".format(stg1,stg2,stg3)\n",
    "print(stg)"
   ]
  },
  {
   "cell_type": "code",
   "execution_count": null,
   "id": "fd77cefe",
   "metadata": {},
   "outputs": [],
   "source": []
  },
  {
   "cell_type": "code",
   "execution_count": null,
   "id": "42c3de30",
   "metadata": {},
   "outputs": [],
   "source": []
  },
  {
   "cell_type": "code",
   "execution_count": null,
   "id": "f3a9ac1f",
   "metadata": {},
   "outputs": [],
   "source": []
  }
 ],
 "metadata": {
  "kernelspec": {
   "display_name": "Python 3 (ipykernel)",
   "language": "python",
   "name": "python3"
  },
  "language_info": {
   "codemirror_mode": {
    "name": "ipython",
    "version": 3
   },
   "file_extension": ".py",
   "mimetype": "text/x-python",
   "name": "python",
   "nbconvert_exporter": "python",
   "pygments_lexer": "ipython3",
   "version": "3.9.13"
  }
 },
 "nbformat": 4,
 "nbformat_minor": 5
}
