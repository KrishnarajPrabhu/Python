{
 "cells": [
  {
   "cell_type": "code",
   "execution_count": 9,
   "id": "caacccc9",
   "metadata": {},
   "outputs": [
    {
     "name": "stdout",
     "output_type": "stream",
     "text": [
      "My name is Sam\n",
      "Eligible to vote\n"
     ]
    }
   ],
   "source": [
    "class Person:\n",
    "    \n",
    "    def __init__(self):\n",
    "        self.name=\"Sam\"\n",
    "        self.gender=\"Male\"\n",
    "        self.age=22\n",
    "        \n",
    "    def talk(self):\n",
    "        print(\"My name is\",self.name)\n",
    "        \n",
    "    def vote(self):\n",
    "        if self.age<18:\n",
    "            print(\"Not eligible to vote\")\n",
    "        else:\n",
    "            print(\"Eligible to vote\")\n",
    "            \n",
    "    obj=Person()\n",
    "    obj.talk()\n",
    "    obj.vote()"
   ]
  },
  {
   "cell_type": "code",
   "execution_count": 3,
   "id": "f081aeb9",
   "metadata": {},
   "outputs": [],
   "source": [
    "class Person:\n",
    "    \n",
    "    def __init__(self,n,g,a):\n",
    "        self.name=n\n",
    "        self.gender=g\n",
    "        self.age=a\n",
    "        \n",
    "    def talk(self):\n",
    "        print(\"My name is\",self.name)\n",
    "        \n",
    "    def vote(self):\n",
    "        if self.age<18:\n",
    "            print(\"Not eligible to vote\")\n",
    "        else:\n",
    "            print(\"Eligible to vote\")\n",
    "            "
   ]
  },
  {
   "cell_type": "code",
   "execution_count": 2,
   "id": "942efc66",
   "metadata": {},
   "outputs": [
    {
     "name": "stdout",
     "output_type": "stream",
     "text": [
      "Sam Kris\n",
      "My name is Sam\n",
      "Eligible to vote\n",
      "My name is Kris\n"
     ]
    },
    {
     "ename": "TypeError",
     "evalue": "'<' not supported between instances of 'str' and 'int'",
     "output_type": "error",
     "traceback": [
      "\u001b[1;31m---------------------------------------------------------------------------\u001b[0m",
      "\u001b[1;31mTypeError\u001b[0m                                 Traceback (most recent call last)",
      "\u001b[1;32m~\\AppData\\Local\\Temp\\ipykernel_19656\\2740809426.py\u001b[0m in \u001b[0;36m<module>\u001b[1;34m\u001b[0m\n\u001b[0;32m      6\u001b[0m \u001b[1;33m\u001b[0m\u001b[0m\n\u001b[0;32m      7\u001b[0m \u001b[0mobj2\u001b[0m\u001b[1;33m.\u001b[0m\u001b[0mtalk\u001b[0m\u001b[1;33m(\u001b[0m\u001b[1;33m)\u001b[0m\u001b[1;33m\u001b[0m\u001b[1;33m\u001b[0m\u001b[0m\n\u001b[1;32m----> 8\u001b[1;33m \u001b[0mobj2\u001b[0m\u001b[1;33m.\u001b[0m\u001b[0mvote\u001b[0m\u001b[1;33m(\u001b[0m\u001b[1;33m)\u001b[0m\u001b[1;33m\u001b[0m\u001b[1;33m\u001b[0m\u001b[0m\n\u001b[0m",
      "\u001b[1;32m~\\AppData\\Local\\Temp\\ipykernel_19656\\1186900035.py\u001b[0m in \u001b[0;36mvote\u001b[1;34m(self)\u001b[0m\n\u001b[0;32m     10\u001b[0m \u001b[1;33m\u001b[0m\u001b[0m\n\u001b[0;32m     11\u001b[0m     \u001b[1;32mdef\u001b[0m \u001b[0mvote\u001b[0m\u001b[1;33m(\u001b[0m\u001b[0mself\u001b[0m\u001b[1;33m)\u001b[0m\u001b[1;33m:\u001b[0m\u001b[1;33m\u001b[0m\u001b[1;33m\u001b[0m\u001b[0m\n\u001b[1;32m---> 12\u001b[1;33m         \u001b[1;32mif\u001b[0m \u001b[0mself\u001b[0m\u001b[1;33m.\u001b[0m\u001b[0mage\u001b[0m\u001b[1;33m<\u001b[0m\u001b[1;36m18\u001b[0m\u001b[1;33m:\u001b[0m\u001b[1;33m\u001b[0m\u001b[1;33m\u001b[0m\u001b[0m\n\u001b[0m\u001b[0;32m     13\u001b[0m             \u001b[0mprint\u001b[0m\u001b[1;33m(\u001b[0m\u001b[1;34m\"Not eligible to vote\"\u001b[0m\u001b[1;33m)\u001b[0m\u001b[1;33m\u001b[0m\u001b[1;33m\u001b[0m\u001b[0m\n\u001b[0;32m     14\u001b[0m         \u001b[1;32melse\u001b[0m\u001b[1;33m:\u001b[0m\u001b[1;33m\u001b[0m\u001b[1;33m\u001b[0m\u001b[0m\n",
      "\u001b[1;31mTypeError\u001b[0m: '<' not supported between instances of 'str' and 'int'"
     ]
    }
   ],
   "source": [
    "        obj1=Person(\"Sam\",\"Male\",22)\n",
    "        obj2=Person(\"Kris\",\"Male\",\"7\")\n",
    "        print(obj1.name,obj2.name)\n",
    "        obj1.talk()\n",
    "        obj1.vote()\n",
    "        \n",
    "        obj2.talk()\n",
    "        obj2.vote()"
   ]
  },
  {
   "cell_type": "code",
   "execution_count": 6,
   "id": "58ca61f6",
   "metadata": {},
   "outputs": [
    {
     "name": "stdout",
     "output_type": "stream",
     "text": [
      "155 mph\n",
      "155 mph\n",
      "155 mph\n",
      "155 mph\n"
     ]
    }
   ],
   "source": [
    "class car:\n",
    "    def getSpeed(self):\n",
    "        print(\"155 mph\")\n",
    "\n",
    "BMW=car()\n",
    "FORD=car()\n",
    "car.getSpeed(BMW)\n",
    "car.getSpeed(FORD)\n",
    "\n",
    "BMW.getSpeed()\n",
    "FORD.getSpeed()"
   ]
  },
  {
   "cell_type": "code",
   "execution_count": 14,
   "id": "2f4f2a5d",
   "metadata": {},
   "outputs": [
    {
     "name": "stdout",
     "output_type": "stream",
     "text": [
      "maximum speed is:  155\n",
      "maximum speed is:  143\n",
      "maximum speed is:  140\n"
     ]
    }
   ],
   "source": [
    "class car:\n",
    "    def __init__(self,year,speed):\n",
    "        self.year=year\n",
    "        self.speed=speed\n",
    "    def getSpeed(self):\n",
    "        print(\"maximum speed is: \", self.speed)\n",
    "    def setSpeed(self,speed):\n",
    "        self.speed=speed\n",
    "\n",
    "\n",
    "BMW=car(2018,155)\n",
    "FORD=car(2016,140)\n",
    "\n",
    "BMW.getSpeed()\n",
    "BMW.setSpeed(143)\n",
    "BMW.getSpeed()\n",
    "FORD.getSpeed()"
   ]
  },
  {
   "cell_type": "markdown",
   "id": "4b1c25af",
   "metadata": {},
   "source": [
    "INHERITANCE\n",
    "\n"
   ]
  },
  {
   "cell_type": "code",
   "execution_count": 17,
   "id": "469a0ea1",
   "metadata": {},
   "outputs": [
    {
     "name": "stdout",
     "output_type": "stream",
     "text": [
      "maximum speed is:  155\n",
      "maximum speed is:  150\n",
      "trunk has been opened\n",
      "137\n"
     ]
    }
   ],
   "source": [
    "class car():\n",
    "    def __init__(self,year,speed):\n",
    "        self.year=year\n",
    "        self.speed=speed\n",
    "    def getSpeed(self):\n",
    "        print(\"maximum speed is: \", self.speed)\n",
    "    def setSpeed(self,speed):\n",
    "        self.speed=speed\n",
    "\n",
    "\n",
    "BMW=car(2018,155)\n",
    "FORD=car(2016,140)\n",
    "\n",
    "class Sedan(car): #child class\n",
    "    def accelerate(self):\n",
    "        print('137')\n",
    "    def openTrunk(self):\n",
    "        print('trunk has been opened')\n",
    "class SUV(car):  #child class\n",
    "    def accelerate(self):\n",
    "        print('127')\n",
    "Honda=Sedan(2018,150)\n",
    "BMW.getSpeed()\n",
    "Honda.getSpeed()\n",
    "Honda.openTrunk()\n",
    "Honda.accelerate()"
   ]
  },
  {
   "cell_type": "markdown",
   "id": "31db71bc",
   "metadata": {},
   "source": [
    "ENCAPSULATION"
   ]
  },
  {
   "cell_type": "code",
   "execution_count": 19,
   "id": "e4f9ac4e",
   "metadata": {},
   "outputs": [
    {
     "name": "stdout",
     "output_type": "stream",
     "text": [
      "maximum speed is:  155\n",
      "maximum speed is:  150\n",
      "150\n"
     ]
    }
   ],
   "source": [
    "class car():\n",
    "    def __init__(self,year,speed):\n",
    "        self.year=year\n",
    "        self.speed=speed\n",
    "    def getSpeed(self):\n",
    "        print(\"maximum speed is: \", self.speed)\n",
    "    def setSpeed(self,speed):\n",
    "        self.speed=speed\n",
    "\n",
    "BMW=car(2018,155)\n",
    "FORD=car(2016,140)\n",
    "BMW.getSpeed()\n",
    "\n",
    "BMW.setSpeed(150)\n",
    "BMW.getSpeed()\n",
    "print(BMW.speed)"
   ]
  },
  {
   "cell_type": "markdown",
   "id": "9a0b2c93",
   "metadata": {},
   "source": [
    "POLYMORPHISM"
   ]
  },
  {
   "cell_type": "code",
   "execution_count": 23,
   "id": "0d7508e5",
   "metadata": {},
   "outputs": [
    {
     "name": "stdout",
     "output_type": "stream",
     "text": [
      "Camry: 160\n",
      "Scorpio: 180\n"
     ]
    }
   ],
   "source": [
    "class car:\n",
    "    def __init__(self,name):\n",
    "        self.name=name\n",
    "\n",
    "class Sedan(car):\n",
    "    def accelerate(self):\n",
    "        print(\"160\")\n",
    "\n",
    "class SUV(car):\n",
    "    def accelerate(car):\n",
    "        print('180')\n",
    "\n",
    "objL=[Sedan(\"Camry\"),SUV(\"Scorpio\")]\n",
    "\n",
    "for obj in objL:\n",
    "    print(obj.name+\": \",end=\"\")\n",
    "    obj.accelerate()"
   ]
  },
  {
   "cell_type": "code",
   "execution_count": null,
   "id": "aa5ea680",
   "metadata": {},
   "outputs": [],
   "source": []
  }
 ],
 "metadata": {
  "kernelspec": {
   "display_name": "Python 3 (ipykernel)",
   "language": "python",
   "name": "python3"
  },
  "language_info": {
   "codemirror_mode": {
    "name": "ipython",
    "version": 3
   },
   "file_extension": ".py",
   "mimetype": "text/x-python",
   "name": "python",
   "nbconvert_exporter": "python",
   "pygments_lexer": "ipython3",
   "version": "3.9.13"
  }
 },
 "nbformat": 4,
 "nbformat_minor": 5
}
