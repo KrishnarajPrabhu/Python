{
 "cells": [
  {
   "cell_type": "code",
   "execution_count": 3,
   "id": "01b976d1",
   "metadata": {},
   "outputs": [
    {
     "name": "stdout",
     "output_type": "stream",
     "text": [
      "This is a child thread\n",
      "This is parent thread\n"
     ]
    }
   ],
   "source": [
    "from threading import *\n",
    "def show():\n",
    "    print(\"This is a child thread\")\n",
    "t=Thread(target=show())\n",
    "t.start()\n",
    "print(\"This is parent thread\")"
   ]
  },
  {
   "cell_type": "code",
   "execution_count": 6,
   "id": "0bf19f07",
   "metadata": {},
   "outputs": [
    {
     "name": "stdout",
     "output_type": "stream",
     "text": [
      "This is a child class\n",
      "This is a child class\n",
      "This is a child class\n",
      "This is a child class\n",
      "This is a child class\n",
      "\n",
      "This is the main thread\n",
      "\n",
      "This is the main thread\n",
      "\n",
      "This is the main thread\n",
      "\n",
      "This is the main thread\n",
      "\n",
      "This is the main thread\n"
     ]
    }
   ],
   "source": [
    "from threading import *\n",
    "class MyThread(Thread):\n",
    "    def run(self):\n",
    "        for i in range(5):\n",
    "            print(\"This is a child class\")\n",
    "t=MyThread()\n",
    "t.start()\n",
    "for i in range(5):\n",
    "    print(\"\\nThis is the main thread\")"
   ]
  },
  {
   "cell_type": "code",
   "execution_count": 7,
   "id": "1b17c628",
   "metadata": {},
   "outputs": [
    {
     "name": "stdout",
     "output_type": "stream",
     "text": [
      "This is child Thread\n",
      "This is child Thread\n",
      "This is child Thread\n",
      "This is child Thread\n",
      "This is child Thread\n",
      "This is a child thread\n",
      "This is parent thread\n",
      "This is parent thread\n",
      "This is parent thread\n",
      "This is parent thread\n",
      "This is parent thread\n"
     ]
    }
   ],
   "source": [
    "from threading import *\n",
    "class Demo:\n",
    "    for i in range(5):\n",
    "        print(\"This is child Thread\")\n",
    "obj=Demo()\n",
    "t=Thread(target=show())\n",
    "t.start()\n",
    "for i in range(5):\n",
    "    print(\"This is parent thread\")"
   ]
  },
  {
   "cell_type": "markdown",
   "id": "2c3095f4",
   "metadata": {},
   "source": [
    "MULTITHREADING"
   ]
  },
  {
   "cell_type": "code",
   "execution_count": 12,
   "id": "b828203c",
   "metadata": {},
   "outputs": [
    {
     "name": "stdout",
     "output_type": "stream",
     "text": [
      "The number is 1\n",
      "The number is 2\n",
      "The number is 3\n",
      "The number is 4\n",
      "The number is 5\n",
      "The double of the number is 2\n",
      "The double of the number is 4\n",
      "The double of the number is 6\n",
      "The double of the number is 8\n",
      "The double of the number is 10\n",
      "The square of the number is 1\n",
      "The square of the number is 4\n",
      "The square of the number is 9\n",
      "The square of the number is 16\n",
      "The square of the number is 25\n",
      "This is the main Thread\n"
     ]
    }
   ],
   "source": [
    "from threading import *\n",
    "class Demo:\n",
    "    def num(self):\n",
    "        for i in range(1,6):\n",
    "            print(\"The number is\", i)\n",
    "    def double(self):\n",
    "        for i in range(1,6):\n",
    "            print(\"The double of the number is\",2*i)\n",
    "    def square(self):\n",
    "                for i in range(1,6):\n",
    "                    print(\"The square of the number is\",i*i)\n",
    "obj=Demo()\n",
    "t1=Thread(target=obj.num)\n",
    "t1.start()\n",
    "t2=Thread(target=obj.double)\n",
    "t2.start()\n",
    "t3=Thread(target=obj.square)\n",
    "t3.start()\n",
    "\n",
    "t1.join()\n",
    "t2.join()\n",
    "t3.join()\n",
    "\n",
    "print(\"This is the main Thread\")"
   ]
  }
 ],
 "metadata": {
  "kernelspec": {
   "display_name": "Python 3 (ipykernel)",
   "language": "python",
   "name": "python3"
  },
  "language_info": {
   "codemirror_mode": {
    "name": "ipython",
    "version": 3
   },
   "file_extension": ".py",
   "mimetype": "text/x-python",
   "name": "python",
   "nbconvert_exporter": "python",
   "pygments_lexer": "ipython3",
   "version": "3.9.13"
  }
 },
 "nbformat": 4,
 "nbformat_minor": 5
}
