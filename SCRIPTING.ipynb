{
 "cells": [
  {
   "cell_type": "code",
   "execution_count": 2,
   "id": "5406e2a6",
   "metadata": {},
   "outputs": [
    {
     "name": "stdout",
     "output_type": "stream",
     "text": [
      "C:\\Users\\Krishnaraj\n",
      "C:\\Users\\Krishnaraj\\sample.txt\n"
     ]
    }
   ],
   "source": [
    "import os\n",
    "\n",
    "def current_directory():\n",
    "    cwd=os.getcwd()\n",
    "    print(cwd)\n",
    "\n",
    "def file_path(filename):\n",
    "    path=os.path.abspath((filename))\n",
    "    print(path)\n",
    "    \n",
    "current_directory()\n",
    "filename=\"sample.txt\"\n",
    "file_path(filename)"
   ]
  },
  {
   "cell_type": "code",
   "execution_count": 5,
   "id": "efae0275",
   "metadata": {},
   "outputs": [
    {
     "name": "stdout",
     "output_type": "stream",
     "text": [
      "1674744542.6051373\n",
      "time.struct_time(tm_year=2023, tm_mon=1, tm_mday=26, tm_hour=20, tm_min=19, tm_sec=2, tm_wday=3, tm_yday=26, tm_isdst=0)\n"
     ]
    }
   ],
   "source": [
    "import time\n",
    "\n",
    "epc=time.time()\n",
    "print(epc)\n",
    "localtime=time.localtime(epc)\n",
    "print(localtime)"
   ]
  },
  {
   "cell_type": "code",
   "execution_count": 6,
   "id": "5cdfe32c",
   "metadata": {},
   "outputs": [
    {
     "name": "stdout",
     "output_type": "stream",
     "text": [
      "1674744585.254618\n",
      "time.struct_time(tm_year=2023, tm_mon=1, tm_mday=26, tm_hour=20, tm_min=19, tm_sec=45, tm_wday=3, tm_yday=26, tm_isdst=0)\n",
      "2023\n",
      "Thu Jan 26 20:19:45 2023\n"
     ]
    }
   ],
   "source": [
    "import time\n",
    "\n",
    "epc=time.time()\n",
    "print(epc)\n",
    "localtime=time.localtime(epc)\n",
    "print(localtime)\n",
    "print(localtime.tm_year)\n",
    "\n",
    "print(time.ctime(epc))"
   ]
  },
  {
   "cell_type": "code",
   "execution_count": 17,
   "id": "69a86d9d",
   "metadata": {},
   "outputs": [
    {
     "name": "stdout",
     "output_type": "stream",
     "text": [
      "File created\n"
     ]
    }
   ],
   "source": [
    "from os import path\n",
    "def CreateFile(dest):\n",
    "    if not (path.isfile(dest)):\n",
    "        f=open(dest,'w')\n",
    "        f.write(\"Wlecome to Python Scripting\")\n",
    "        f.close()\n",
    "        \n",
    "dest=r'C:\\Users\\Krishnaraj\\OneDrive\\Desktop\\KRISHNARAJ\\PYTHON\\python.txt'\n",
    "CreateFile(dest)\n",
    "\n",
    "print(\"File created\")"
   ]
  },
  {
   "cell_type": "code",
   "execution_count": null,
   "id": "c26ddcc0",
   "metadata": {},
   "outputs": [],
   "source": [
    "-----"
   ]
  },
  {
   "cell_type": "code",
   "execution_count": 18,
   "id": "ef40df46",
   "metadata": {},
   "outputs": [
    {
     "name": "stdout",
     "output_type": "stream",
     "text": [
      "10\n",
      "20\n",
      "30\n",
      "40\n"
     ]
    }
   ],
   "source": [
    "def func1(*args):\n",
    "    for i in args:\n",
    "        print(i)\n",
    "func1(10,20,30,40)"
   ]
  },
  {
   "cell_type": "code",
   "execution_count": 20,
   "id": "f5066443",
   "metadata": {},
   "outputs": [
    {
     "name": "stdout",
     "output_type": "stream",
     "text": [
      "('a', 10)\n",
      "('b', 20)\n",
      "('c', 30)\n",
      "('d', 40)\n"
     ]
    }
   ],
   "source": [
    "def func1(*args,**kwargs):\n",
    "    for i in kwargs.items():\n",
    "        print(i)\n",
    "func1(a=10,b=20,c=30,d=40)"
   ]
  },
  {
   "cell_type": "code",
   "execution_count": 21,
   "id": "81cfc4a4",
   "metadata": {},
   "outputs": [
    {
     "name": "stdout",
     "output_type": "stream",
     "text": [
      "11\n"
     ]
    }
   ],
   "source": [
    "#nested functions\n",
    "def func1():\n",
    "    x=10\n",
    "    def func2(x):\n",
    "        return x+1\n",
    "    return func2(x)\n",
    "result=func1()\n",
    "print(result)"
   ]
  },
  {
   "cell_type": "code",
   "execution_count": 25,
   "id": "556a4f2f",
   "metadata": {},
   "outputs": [
    {
     "name": "stdout",
     "output_type": "stream",
     "text": [
      "first function\n",
      "Nested function\n"
     ]
    }
   ],
   "source": [
    "def func1():\n",
    "    print(\"first function\")\n",
    "    def nested_func1():\n",
    "        print(\"Nested function\")\n",
    "    return nested_func1\n",
    "\n",
    "def outer_func():\n",
    "    print(\"Outer function\")\n",
    "\n",
    "obj=func1()\n",
    "obj()\n",
    "\n"
   ]
  },
  {
   "cell_type": "code",
   "execution_count": 28,
   "id": "3d237caa",
   "metadata": {},
   "outputs": [
    {
     "name": "stdout",
     "output_type": "stream",
     "text": [
      "5\n",
      "10\n"
     ]
    }
   ],
   "source": [
    "B=type(\"Baseclass\",(object,),{})\n",
    "C1=type(\"C1\",(B,),{'val':5})\n",
    "C2=type(\"C2\",(B,),{'val':10})\n",
    "\n",
    "def ClassCreator(boo1):\n",
    "    if boo1:\n",
    "        return C1()\n",
    "    else:\n",
    "        return C2()\n",
    "\n",
    "print(ClassCreator(True).val)\n",
    "print(ClassCreator(False).val)\n"
   ]
  },
  {
   "cell_type": "code",
   "execution_count": null,
   "id": "6acb93e6",
   "metadata": {},
   "outputs": [],
   "source": []
  }
 ],
 "metadata": {
  "kernelspec": {
   "display_name": "Python 3 (ipykernel)",
   "language": "python",
   "name": "python3"
  },
  "language_info": {
   "codemirror_mode": {
    "name": "ipython",
    "version": 3
   },
   "file_extension": ".py",
   "mimetype": "text/x-python",
   "name": "python",
   "nbconvert_exporter": "python",
   "pygments_lexer": "ipython3",
   "version": "3.9.13"
  }
 },
 "nbformat": 4,
 "nbformat_minor": 5
}
