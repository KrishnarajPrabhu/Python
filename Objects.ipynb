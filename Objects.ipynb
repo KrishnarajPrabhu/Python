{
 "cells": [
  {
   "cell_type": "code",
   "execution_count": 24,
   "id": "0a077e3b",
   "metadata": {},
   "outputs": [],
   "source": [
    "class Person():\n",
    "    \n",
    "    def __init__(self):\n",
    "        self.name=\"Kris\"\n",
    "        self.gender=\"Male\"\n",
    "        self.age=22\n",
    "        \n",
    "    def talk(self):\n",
    "        print(\"Hi I'm\", self.name)\n",
    "        \n",
    "    def vote(self):\n",
    "        if self.age<=18:\n",
    "            print(\"I am not eligible to vote\")\n",
    "        else:\n",
    "            print(\"I am eligible to vote\")\n",
    "    \n",
    "    obj= Person()"
   ]
  },
  {
   "cell_type": "code",
   "execution_count": null,
   "id": "0aa10b17",
   "metadata": {},
   "outputs": [],
   "source": []
  },
  {
   "cell_type": "code",
   "execution_count": null,
   "id": "aa589d03",
   "metadata": {},
   "outputs": [],
   "source": []
  },
  {
   "cell_type": "code",
   "execution_count": null,
   "id": "706c86a8",
   "metadata": {},
   "outputs": [],
   "source": []
  },
  {
   "cell_type": "code",
   "execution_count": 22,
   "id": "f412484c",
   "metadata": {},
   "outputs": [],
   "source": []
  },
  {
   "cell_type": "code",
   "execution_count": null,
   "id": "058a88fd",
   "metadata": {},
   "outputs": [],
   "source": []
  }
 ],
 "metadata": {
  "kernelspec": {
   "display_name": "Python 3 (ipykernel)",
   "language": "python",
   "name": "python3"
  },
  "language_info": {
   "codemirror_mode": {
    "name": "ipython",
    "version": 3
   },
   "file_extension": ".py",
   "mimetype": "text/x-python",
   "name": "python",
   "nbconvert_exporter": "python",
   "pygments_lexer": "ipython3",
   "version": "3.9.13"
  }
 },
 "nbformat": 4,
 "nbformat_minor": 5
}
