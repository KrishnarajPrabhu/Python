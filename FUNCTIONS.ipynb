{
 "cells": [
  {
   "cell_type": "code",
   "execution_count": 2,
   "id": "64e5e606",
   "metadata": {},
   "outputs": [
    {
     "name": "stdout",
     "output_type": "stream",
     "text": [
      "Good morning\n"
     ]
    }
   ],
   "source": [
    "def welcome():\n",
    "    print(\"Good morning\")\n",
    "    \n",
    "welcome()"
   ]
  },
  {
   "cell_type": "code",
   "execution_count": 3,
   "id": "c8a7e05b",
   "metadata": {},
   "outputs": [
    {
     "name": "stdout",
     "output_type": "stream",
     "text": [
      "The sum is 30\n",
      "The sum is 5\n"
     ]
    }
   ],
   "source": [
    "def welcome():\n",
    "    print(\"Good morning\")\n",
    "    \n",
    "def add(a,b):\n",
    "    total=a+b\n",
    "    print(\"The sum is\",total)\n",
    "    \n",
    "add(10,20)\n",
    "x=2\n",
    "y=3\n",
    "add(x,y)"
   ]
  },
  {
   "cell_type": "code",
   "execution_count": 4,
   "id": "d94b4013",
   "metadata": {},
   "outputs": [
    {
     "name": "stdout",
     "output_type": "stream",
     "text": [
      "a:10   b:20\n",
      "The sum is 30\n",
      "a:2   b:3\n",
      "The sum is 5\n"
     ]
    }
   ],
   "source": [
    "def welcome():\n",
    "    print(\"Good morning\")\n",
    "    \n",
    "def add(a,b):\n",
    "    total=a+b\n",
    "    print(\"a:%d   b:%d\"%(a,b))\n",
    "    print(\"The sum is\",total)\n",
    "    \n",
    "add(10,20)\n",
    "x=2\n",
    "y=3\n",
    "add(x,y)"
   ]
  },
  {
   "cell_type": "code",
   "execution_count": 6,
   "id": "abc75e63",
   "metadata": {},
   "outputs": [
    {
     "name": "stdout",
     "output_type": "stream",
     "text": [
      "a:10   b:20\n",
      "The sum is 30\n",
      "a:3   b:2\n",
      "The sum is 5\n"
     ]
    }
   ],
   "source": [
    "def welcome():\n",
    "    print(\"Good morning\")\n",
    "    \n",
    "def add(b,a):\n",
    "    total=a+b\n",
    "    print(\"a:%d   b:%d\"%(a,b))\n",
    "    print(\"The sum is\",total)\n",
    "    \n",
    "add(a=10,b=20)\n",
    "x=2\n",
    "y=3\n",
    "add(x,y)"
   ]
  },
  {
   "cell_type": "code",
   "execution_count": 8,
   "id": "0701fede",
   "metadata": {},
   "outputs": [
    {
     "name": "stdout",
     "output_type": "stream",
     "text": [
      "a:10   b:0\n",
      "The sum is 10\n"
     ]
    }
   ],
   "source": [
    "def welcome():\n",
    "    print(\"Good morning\")\n",
    "    \n",
    "def add(a=0,b=0):\n",
    "    total=a+b\n",
    "    print(\"a:%d   b:%d\"%(a,b))\n",
    "    print(\"The sum is\",total)\n",
    "    \n",
    "add(10)"
   ]
  },
  {
   "cell_type": "code",
   "execution_count": 10,
   "id": "6fd468a6",
   "metadata": {},
   "outputs": [
    {
     "name": "stdout",
     "output_type": "stream",
     "text": [
      "The sum is 100\n",
      "The sum is 1\n"
     ]
    }
   ],
   "source": [
    "def welcome():\n",
    "    print(\"Good morning\")\n",
    "    \n",
    "def add(*a):\n",
    "    total=0\n",
    "    for i in a:\n",
    "        total=total+i\n",
    "    print(\"The sum is\",total)\n",
    "    \n",
    "add(10,20,30,40)\n",
    "add(1)"
   ]
  },
  {
   "cell_type": "code",
   "execution_count": 11,
   "id": "c73955f8",
   "metadata": {},
   "outputs": [
    {
     "name": "stdout",
     "output_type": "stream",
     "text": [
      "The sum is 5\n",
      "The sum is 30\n"
     ]
    }
   ],
   "source": [
    "def welcome():\n",
    "    print(\"Good morning\")\n",
    "    \n",
    "def add(a,b):\n",
    "    a=2\n",
    "    b=3\n",
    "    total=a+b\n",
    "    print(\"The sum is\",total)\n",
    "    \n",
    "x=10\n",
    "y=20\n",
    "add(x,y)\n",
    "print(\"The sum is\",x+y)\n"
   ]
  },
  {
   "cell_type": "code",
   "execution_count": 12,
   "id": "fa65e495",
   "metadata": {},
   "outputs": [
    {
     "name": "stdout",
     "output_type": "stream",
     "text": [
      "2182168930896 2182168931216\n",
      "2182168930896 2182168931216\n",
      "2182168930640 2182168930672\n",
      "The sum is 5\n",
      "The sum is 30\n"
     ]
    }
   ],
   "source": [
    "def welcome():\n",
    "    print(\"Good morning\")\n",
    "    \n",
    "def add(a,b):\n",
    "    print(id(a),id(b))\n",
    "    a=2\n",
    "    b=3\n",
    "    print(id(a),id(b))\n",
    "    total=a+b\n",
    "    print(\"The sum is\",total)\n",
    "    \n",
    "x=10\n",
    "y=20\n",
    "print(id(x),id(y))\n",
    "add(x,y)\n",
    "print(\"The sum is\",x+y)"
   ]
  },
  {
   "cell_type": "code",
   "execution_count": 16,
   "id": "f95d6afc",
   "metadata": {},
   "outputs": [
    {
     "name": "stdout",
     "output_type": "stream",
     "text": [
      "[0, 1, 2]\n"
     ]
    },
    {
     "ename": "TypeError",
     "evalue": "add() missing 1 required positional argument: 'b'",
     "output_type": "error",
     "traceback": [
      "\u001b[1;31m---------------------------------------------------------------------------\u001b[0m",
      "\u001b[1;31mTypeError\u001b[0m                                 Traceback (most recent call last)",
      "\u001b[1;32m~\\AppData\\Local\\Temp\\ipykernel_19584\\101287454.py\u001b[0m in \u001b[0;36m<module>\u001b[1;34m\u001b[0m\n\u001b[0;32m      7\u001b[0m \u001b[0mlst\u001b[0m\u001b[1;33m=\u001b[0m\u001b[1;33m[\u001b[0m\u001b[1;36m0\u001b[0m\u001b[1;33m,\u001b[0m\u001b[1;36m1\u001b[0m\u001b[1;33m,\u001b[0m\u001b[1;36m2\u001b[0m\u001b[1;33m]\u001b[0m\u001b[1;33m\u001b[0m\u001b[1;33m\u001b[0m\u001b[0m\n\u001b[0;32m      8\u001b[0m \u001b[0mprint\u001b[0m\u001b[1;33m(\u001b[0m\u001b[0mlst\u001b[0m\u001b[1;33m)\u001b[0m\u001b[1;33m\u001b[0m\u001b[1;33m\u001b[0m\u001b[0m\n\u001b[1;32m----> 9\u001b[1;33m \u001b[0madd\u001b[0m\u001b[1;33m(\u001b[0m\u001b[0mlst\u001b[0m\u001b[1;33m)\u001b[0m\u001b[1;33m\u001b[0m\u001b[1;33m\u001b[0m\u001b[0m\n\u001b[0m\u001b[0;32m     10\u001b[0m \u001b[0mprint\u001b[0m\u001b[1;33m(\u001b[0m\u001b[0mlst\u001b[0m\u001b[1;33m)\u001b[0m\u001b[1;33m\u001b[0m\u001b[1;33m\u001b[0m\u001b[0m\n",
      "\u001b[1;31mTypeError\u001b[0m: add() missing 1 required positional argument: 'b'"
     ]
    }
   ],
   "source": [
    "def welcome():\n",
    "    print(\"Good morning\")\n",
    "\n",
    "    def add(lst):\n",
    "        lst[2]=0\n",
    "        \n",
    "lst=[0,1,2]\n",
    "print(lst)\n",
    "add(lst)\n",
    "print(lst)\n"
   ]
  },
  {
   "cell_type": "code",
   "execution_count": 17,
   "id": "05510827",
   "metadata": {},
   "outputs": [
    {
     "name": "stdout",
     "output_type": "stream",
     "text": [
      "The sum is  30\n"
     ]
    }
   ],
   "source": [
    "def welcome():\n",
    "    print(\"Good morning\")\n",
    "    \n",
    "def add(a,b):\n",
    "    total=a+b\n",
    "    return total\n",
    "    \n",
    "result=add(10,20)\n",
    "print(\"The sum is \", result)"
   ]
  },
  {
   "cell_type": "code",
   "execution_count": null,
   "id": "9a73b692",
   "metadata": {},
   "outputs": [],
   "source": []
  }
 ],
 "metadata": {
  "kernelspec": {
   "display_name": "Python 3 (ipykernel)",
   "language": "python",
   "name": "python3"
  },
  "language_info": {
   "codemirror_mode": {
    "name": "ipython",
    "version": 3
   },
   "file_extension": ".py",
   "mimetype": "text/x-python",
   "name": "python",
   "nbconvert_exporter": "python",
   "pygments_lexer": "ipython3",
   "version": "3.9.13"
  }
 },
 "nbformat": 4,
 "nbformat_minor": 5
}
